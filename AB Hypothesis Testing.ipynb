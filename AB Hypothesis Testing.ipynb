{
 "cells": [
  {
   "cell_type": "markdown",
   "id": "ac2e901b",
   "metadata": {},
   "source": [
    "<a id='introduction'></a>\n",
    "## I. Introduction"
   ]
  },
  {
   "cell_type": "markdown",
   "id": "a972dc4c",
   "metadata": {},
   "source": [
    "Due to the launch of an upcoming marketing campaign, our e-commerce website has made plans to re-work the essential landing page of our front-end. Before our company totally commits to the change, it has been decided that the effectiveness of the new layout should be evaluated utilizing A/B hypothesis testing against the original design baseline, to determine if a significant website landing page overhaul would yield a higher conversion rate before the new marketing campaign initiative officially launches. \n",
    "\n",
    "<a id='first_source'></a>\n",
    "As explained by Oracle<sup>[1](#1)</sup>, \"A/B testing... compares the performance of two versions of content to see which one appeals more to visitors. It tests a control (a) version against a variant (b) version to measure which one is most successful based on your key metrics.\" After dividing our website's users randomly into either the control group (a) on the original website or the treatment group (b) on the landing page overhaul for 2 weeks, our experiment contains nearly 70,000 datapoints. Using group status and country of origin as independent features, we will proceed with an analysis to determine whether or not these elements can be used to effectively predict whether or not a guest on our website will convert to a valued customer. \n",
    "    "
   ]
  },
  {
   "cell_type": "markdown",
   "id": "83bed895",
   "metadata": {},
   "source": [
    "### Table of Contents\n",
    "- [I. Introduction](#introduction)\n",
    "- [II. Descriptive Statistics](#statistics)\n",
    "- [III. Probability](#probability)\n",
    "- [IV. Hypothesis Testing](#hypothesis)\n",
    "- [V. Logistic Regression](#regression)\n",
    "- [VI. Evaluation](#evaluation)\n",
    "- [VII. Sources](#sources)"
   ]
  },
  {
   "cell_type": "markdown",
   "id": "5d34cf22",
   "metadata": {},
   "source": [
    "<a id='statistics'></a>\n",
    "## II. Descriptive Statistics"
   ]
  },
  {
   "cell_type": "markdown",
   "id": "e7886926",
   "metadata": {},
   "source": [
    "We will begin by importing our external libraries into the notebook. Next, a random seed is set to ensure result reproducibility. After that, we will read in the dataset, take a look at a few rows, measure the shape of the data, the raw amount of conversions, the overall conversion rate as a percentage, and check for missing values. It will also be important to gauge the relative size of each column's unique values and visualize our guest's country of origin."
   ]
  },
  {
   "cell_type": "code",
   "execution_count": 1,
   "id": "16e9e646",
   "metadata": {},
   "outputs": [],
   "source": [
    "# import external libraries\n",
    "import pandas as pd\n",
    "import numpy as np\n",
    "import random\n",
    "import matplotlib.pyplot as plt\n",
    "%matplotlib inline\n",
    "import statsmodels.api as sm\n",
    "\n",
    "# ensure result reproducibility\n",
    "random.seed(0)"
   ]
  },
  {
   "cell_type": "code",
   "execution_count": 2,
   "id": "dc47faa8",
   "metadata": {},
   "outputs": [
    {
     "data": {
      "text/html": [
       "<div>\n",
       "<style scoped>\n",
       "    .dataframe tbody tr th:only-of-type {\n",
       "        vertical-align: middle;\n",
       "    }\n",
       "\n",
       "    .dataframe tbody tr th {\n",
       "        vertical-align: top;\n",
       "    }\n",
       "\n",
       "    .dataframe thead th {\n",
       "        text-align: right;\n",
       "    }\n",
       "</style>\n",
       "<table border=\"1\" class=\"dataframe\">\n",
       "  <thead>\n",
       "    <tr style=\"text-align: right;\">\n",
       "      <th></th>\n",
       "      <th>country</th>\n",
       "      <th>group</th>\n",
       "      <th>converted</th>\n",
       "    </tr>\n",
       "  </thead>\n",
       "  <tbody>\n",
       "    <tr>\n",
       "      <th>0</th>\n",
       "      <td>UK</td>\n",
       "      <td>control</td>\n",
       "      <td>0</td>\n",
       "    </tr>\n",
       "    <tr>\n",
       "      <th>1</th>\n",
       "      <td>US</td>\n",
       "      <td>treatment</td>\n",
       "      <td>1</td>\n",
       "    </tr>\n",
       "    <tr>\n",
       "      <th>2</th>\n",
       "      <td>UK</td>\n",
       "      <td>treatment</td>\n",
       "      <td>0</td>\n",
       "    </tr>\n",
       "    <tr>\n",
       "      <th>3</th>\n",
       "      <td>UK</td>\n",
       "      <td>control</td>\n",
       "      <td>0</td>\n",
       "    </tr>\n",
       "    <tr>\n",
       "      <th>4</th>\n",
       "      <td>UK</td>\n",
       "      <td>treatment</td>\n",
       "      <td>0</td>\n",
       "    </tr>\n",
       "  </tbody>\n",
       "</table>\n",
       "</div>"
      ],
      "text/plain": [
       "  country      group  converted\n",
       "0      UK    control          0\n",
       "1      US  treatment          1\n",
       "2      UK  treatment          0\n",
       "3      UK    control          0\n",
       "4      UK  treatment          0"
      ]
     },
     "execution_count": 2,
     "metadata": {},
     "output_type": "execute_result"
    }
   ],
   "source": [
    "# read in the dataset\n",
    "df = pd.read_csv('homepage_overhaul_ab_testing_data.csv')\n",
    "\n",
    "# take a look at a few rows\n",
    "df.head()"
   ]
  },
  {
   "cell_type": "code",
   "execution_count": 3,
   "id": "5212c1f2",
   "metadata": {},
   "outputs": [
    {
     "name": "stdout",
     "output_type": "stream",
     "text": [
      "Number of rows: 69889\n",
      "Number of columns: 3\n"
     ]
    }
   ],
   "source": [
    "# measure the shape of the data\n",
    "print(f'Number of rows: {df.shape[0]}')\n",
    "print(f'Number of columns: {df.shape[1]}')"
   ]
  },
  {
   "cell_type": "code",
   "execution_count": 4,
   "id": "1333d2a7",
   "metadata": {},
   "outputs": [
    {
     "name": "stdout",
     "output_type": "stream",
     "text": [
      "Number of guests that converted to customers: 9119\n",
      "Percentage of guests that converted to customers: 13.05%\n",
      "\n",
      "Number of guests that did not convert to customers: 60770\n",
      "Percentage of guests that did not convert to customers: 86.95%\n"
     ]
    }
   ],
   "source": [
    "# amount of conversions\n",
    "total_conversions = df['converted'].sum()\n",
    "print(f'Number of guests that converted to customers: {total_conversions}')\n",
    "# conversion rate\n",
    "conversion_rate = total_conversions / df.shape[0]\n",
    "print(f'Percentage of guests that converted to customers: {conversion_rate*100:.2f}%')\n",
    "print()\n",
    "\n",
    "# those who did not convert\n",
    "total_non_conversions = df.shape[0] - total_conversions\n",
    "print(f'Number of guests that did not convert to customers: {total_non_conversions}')\n",
    "# non-conversion rate\n",
    "non_conversion_rate = 1 - conversion_rate\n",
    "print(f'Percentage of guests that did not convert to customers: {non_conversion_rate*100:.2f}%')"
   ]
  },
  {
   "cell_type": "code",
   "execution_count": 5,
   "id": "191cbb4d",
   "metadata": {},
   "outputs": [
    {
     "data": {
      "text/plain": [
       "country      0\n",
       "group        0\n",
       "converted    0\n",
       "dtype: int64"
      ]
     },
     "execution_count": 5,
     "metadata": {},
     "output_type": "execute_result"
    }
   ],
   "source": [
    "# check for missing values\n",
    "df.isna().sum()"
   ]
  },
  {
   "cell_type": "code",
   "execution_count": 6,
   "id": "d3cefb84",
   "metadata": {},
   "outputs": [
    {
     "data": {
      "text/plain": [
       "treatment    35211\n",
       "control      34678\n",
       "Name: group, dtype: int64"
      ]
     },
     "execution_count": 6,
     "metadata": {},
     "output_type": "execute_result"
    }
   ],
   "source": [
    "# number of visitors per group\n",
    "visitors_per_group = df['group'].value_counts()\n",
    "visitors_per_group"
   ]
  },
  {
   "cell_type": "code",
   "execution_count": 7,
   "id": "6cc13ef7",
   "metadata": {},
   "outputs": [
    {
     "data": {
      "text/plain": [
       "US    48850\n",
       "UK    17551\n",
       "CA     3488\n",
       "Name: country, dtype: int64"
      ]
     },
     "execution_count": 7,
     "metadata": {},
     "output_type": "execute_result"
    }
   ],
   "source": [
    "# number of website landing page visitors per country\n",
    "visitors_per_country = df['country'].value_counts()\n",
    "visitors_per_country"
   ]
  },
  {
   "cell_type": "code",
   "execution_count": 8,
   "id": "d344772b",
   "metadata": {},
   "outputs": [
    {
     "data": {
      "image/png": "[encoded data removed]",
      "text/plain": [
       "<Figure size 640x480 with 1 Axes>"
      ]
     },
     "metadata": {},
     "output_type": "display_data"
    }
   ],
   "source": [
    "# visualize relative country of origin\n",
    "visitors_per_country.plot(kind='bar')\n",
    "\n",
    "# add title, add and adjust labels\n",
    "plt.title('Number of Visits From Each Country')\n",
    "plt.ylabel('Count of Visits')\n",
    "plt.xticks(rotation=0)\n",
    "plt.show();"
   ]
  },
  {
   "cell_type": "markdown",
   "id": "1cfc3e89",
   "metadata": {},
   "source": [
    "<a id='probability'></a>\n",
    "## III. Probability"
   ]
  },
  {
   "cell_type": "markdown",
   "id": "648d06ca",
   "metadata": {},
   "source": [
    "Now that we're more familiar with our data, we can begin to look a little deeper. We saw above, that the overall conversion rate was 13.05%. This means that for every 100 visitors we had to our website landing page, regardless of the circustance, about 13 became customers. To be verbose and specific, we want to know precisely to what degree group identity and country of origin affect the final conversion rate. Furthermore, it will be imperative to investigate if there is a significant interaction between these two features."
   ]
  },
  {
   "cell_type": "code",
   "execution_count": 9,
   "id": "17c8e413",
   "metadata": {},
   "outputs": [
    {
     "name": "stdout",
     "output_type": "stream",
     "text": [
      "Percentage of control group that converted: 10.53%\n",
      "Percentage of treatment group that converted: 15.53%\n"
     ]
    }
   ],
   "source": [
    "# control conversion rate not considering country of origin\n",
    "control_conversion_rate = df.query('group == \"control\"')['converted'].mean()\n",
    "print(f'Percentage of control group that converted: {control_conversion_rate*100:.2f}%')\n",
    "\n",
    "# treatment conversion rate not considering country of origin\n",
    "treatment_conversion_rate = df.query('group == \"treatment\"')['converted'].mean()\n",
    "print(f'Percentage of treatment group that converted: {treatment_conversion_rate*100:.2f}%')"
   ]
  },
  {
   "cell_type": "markdown",
   "id": "5eabc767",
   "metadata": {},
   "source": [
    "Here, we see preliminarily that the treatment group converted 5% more often. Said another way, it seems as though a guest was roughly 1.5 times more likely to convert if they were a part of the treatment group with the new landing page overhaul for the website, compared to the baseline of the original page for the control. Let's confirm the relative group sizes."
   ]
  },
  {
   "cell_type": "code",
   "execution_count": 10,
   "id": "0af7851e",
   "metadata": {},
   "outputs": [
    {
     "name": "stdout",
     "output_type": "stream",
     "text": [
      "Percentage of guests that were in the control group: 49.62%\n",
      "Percentage of guests that were in the treatment group: 50.38%\n"
     ]
    }
   ],
   "source": [
    "# confirm the size of the control group\n",
    "control_group_proportion = df.query('group == \"control\"').shape[0] / df.shape[0]\n",
    "print(f'Percentage of guests that were in the control group: {control_group_proportion*100:.2f}%')\n",
    "\n",
    "# and that of the treatment group \n",
    "treatment_group_proportion = df.query('group == \"treatment\"').shape[0] / df.shape[0]\n",
    "print(f'Percentage of guests that were in the treatment group: {treatment_group_proportion*100:.2f}%')"
   ]
  },
  {
   "cell_type": "markdown",
   "id": "d60a41bf",
   "metadata": {},
   "source": [
    "Now that we know that both groups were approximately the same size, what can be said of the relative conversion rates per country of origin? This may be written as follows:\n",
    "\n",
    "$P(\\text{converted} == 1 \\:|\\: \\text{country} == \\text{\"US\"})$\n",
    "\n",
    "$P(\\text{converted} == 1 \\:|\\: \\text{country} == \\text{\"UK\"})$\n",
    "\n",
    "$P(\\text{converted} == 1 \\:|\\: \\text{country} == \\text{\"CA\"})$\n",
    "\n",
    "What is the probability that a guest converted, given that its country of origin is of US, UK, and CA?"
   ]
  },
  {
   "cell_type": "code",
   "execution_count": 11,
   "id": "b1617107",
   "metadata": {},
   "outputs": [
    {
     "name": "stdout",
     "output_type": "stream",
     "text": [
      "Percentage of guests from the US that converted: 13.28%\n",
      "Percentage of guests from the UK that converted: 12.51%\n",
      "Percentage of guests from the CA that converted: 12.53%\n"
     ]
    }
   ],
   "source": [
    "# find the conversion rate for each country\n",
    "us_conversion_rate = df.query('country == \"US\"')['converted'].mean()\n",
    "print(f'Percentage of guests from the US that converted: {us_conversion_rate*100:.2f}%')\n",
    "\n",
    "uk_conversion_rate = df.query('country == \"UK\"')['converted'].mean()\n",
    "print(f'Percentage of guests from the UK that converted: {uk_conversion_rate*100:.2f}%')\n",
    "\n",
    "ca_conversion_rate = df.query('country == \"CA\"')['converted'].mean()\n",
    "print(f'Percentage of guests from the CA that converted: {ca_conversion_rate*100:.2f}%')"
   ]
  },
  {
   "cell_type": "markdown",
   "id": "70a42aff",
   "metadata": {},
   "source": [
    "Based on the above, it does not appear as though country of origin played a large factor in the outcome at this point, as each metric is within a single percentage point of the others. Next, we'll use a groupby method to striate the data across both country of origin and conversion."
   ]
  },
  {
   "cell_type": "code",
   "execution_count": 12,
   "id": "b95d4e8b",
   "metadata": {},
   "outputs": [
    {
     "data": {
      "text/plain": [
       "group\n",
       "control      0.107314\n",
       "treatment    0.157769\n",
       "Name: converted, dtype: float64"
      ]
     },
     "execution_count": 12,
     "metadata": {},
     "output_type": "execute_result"
    }
   ],
   "source": [
    "# US conversion rate for both the control and treatment groups\n",
    "df.query('country == \"US\"').groupby('group')['converted'].mean()"
   ]
  },
  {
   "cell_type": "code",
   "execution_count": 13,
   "id": "d98fbe0e",
   "metadata": {},
   "outputs": [
    {
     "data": {
      "text/plain": [
       "group\n",
       "control      0.101649\n",
       "treatment    0.148698\n",
       "Name: converted, dtype: float64"
      ]
     },
     "execution_count": 13,
     "metadata": {},
     "output_type": "execute_result"
    }
   ],
   "source": [
    "# UK conversion rate for both the control and treatment groups\n",
    "df.query('country == \"UK\"').groupby('group')['converted'].mean()"
   ]
  },
  {
   "cell_type": "code",
   "execution_count": 14,
   "id": "92626301",
   "metadata": {},
   "outputs": [
    {
     "data": {
      "text/plain": [
       "group\n",
       "control      0.094474\n",
       "treatment    0.154017\n",
       "Name: converted, dtype: float64"
      ]
     },
     "execution_count": 14,
     "metadata": {},
     "output_type": "execute_result"
    }
   ],
   "source": [
    "# CA conversion rate for both the control and treatment groups\n",
    "df.query('country == \"CA\"').groupby('group')['converted'].mean()"
   ]
  },
  {
   "cell_type": "markdown",
   "id": "6ce8d497",
   "metadata": {},
   "source": [
    "When we compile this analysis together as a table, a clear trend stands out:\n",
    "\n",
    "|             | US          | UK          | CA          |\n",
    "| ----------- | ----------- | ----------- | ----------- |\n",
    "| Control     | 10.73%      | 10.16%      | 9.45%       |\n",
    "| Treatment   | 15.78%      | 14.87%      | 15.40%      |\n",
    "\n",
    "This same data can also be viewed as a clustered bar chart, to show the differences discovered by the groupby method:"
   ]
  },
  {
   "cell_type": "code",
   "execution_count": 15,
   "id": "b40b344e",
   "metadata": {},
   "outputs": [
    {
     "data": {
      "image/png": "[encoded data removed]",
      "text/plain": [
       "<Figure size 640x480 with 1 Axes>"
      ]
     },
     "metadata": {},
     "output_type": "display_data"
    }
   ],
   "source": [
    "# manually compile data\n",
    "control = [10.73, 10.16, 9.45]\n",
    "treatment = [15.78, 14.87, 15.40]\n",
    "index = ['US', 'UK', 'CA']\n",
    "\n",
    "# convert to dataframe and plot\n",
    "clustered_bar = pd.DataFrame({'control': control,\n",
    "                              'treatment': treatment}, index=index)\n",
    "clustered_bar.plot.bar()\n",
    "\n",
    "# change legend location, add title, add and adjust labels\n",
    "plt.legend(loc='lower left')\n",
    "plt.title('Conversion Rate Across Country and Group')\n",
    "plt.ylabel('Conversion Rate as Percentage')\n",
    "plt.xticks(rotation=0)\n",
    "plt.show();"
   ]
  },
  {
   "cell_type": "markdown",
   "id": "79ab3de0",
   "metadata": {},
   "source": [
    "The data remains within 1 percentage point for each country of origin across both groups, but each group is distinct by approximately 5 points across the board."
   ]
  },
  {
   "cell_type": "markdown",
   "id": "eade73d7",
   "metadata": {},
   "source": [
    "<a id='hypothesis'></a>\n",
    "## IV. Hypothesis Testing"
   ]
  },
  {
   "cell_type": "markdown",
   "id": "b7429cd7",
   "metadata": {},
   "source": [
    "Now that we have laid a solid foundation for our experimentation, we can proceed with a formal hypothesis. Let us be generous and say that our standpoint, that is, the null hypothesis, is that the original website is better, or at the very least equivalent, to the new landing page. It is established, tried, true, and tested. We know it works. Then, as the challenger, only with sufficient reason and evidence should we distinguish the new version as in fact superior. This may be said as:\n",
    "\n",
    "$H_{0}: p_{control} >= p_{treatment}$\n",
    "\n",
    "$H_{1}: p_{control} < p_{treatment}$\n",
    "\n",
    "Said another way, the difference in conversion rates can be said to be less than or equivalent to zero for the original website if we fail to reject the null hypothesis, or greater than zero if the null hypothesis is successfully rejected in favor of the established alternative hypothesis. Then, the experiment may be viewed in this way:\n",
    "\n",
    "$H_{0}: p_{treatment} - p_{control} <= 0$\n",
    "\n",
    "$H_{1}: p_{treatment} - p_{control} > 0$\n",
    "\n",
    "Where:\n",
    "- **$p_{control}$** is the `converted` rate for the original, control website page\n",
    "- **$p_{treatment}$** is the `converted` rate for the new, treatment website page\n",
    "- The country of origin is not distinguished"
   ]
  },
  {
   "cell_type": "code",
   "execution_count": 16,
   "id": "46a8e0f5",
   "metadata": {},
   "outputs": [
    {
     "data": {
      "text/plain": [
       "0.13047832992316388"
      ]
     },
     "execution_count": 16,
     "metadata": {},
     "output_type": "execute_result"
    }
   ],
   "source": [
    "# for the null hypothesis, assume the same\n",
    "# conversion rate for both groups, meaning\n",
    "# an average of 13.05% overall\n",
    "p_control_treatment_null = df['converted'].mean()\n",
    "p_control_treatment_null"
   ]
  },
  {
   "cell_type": "code",
   "execution_count": 17,
   "id": "3bf6fb0f",
   "metadata": {},
   "outputs": [
    {
     "name": "stdout",
     "output_type": "stream",
     "text": [
      "Control group size: 34678\n",
      "Treatment group size: 35211\n"
     ]
    }
   ],
   "source": [
    "# we can then establish the size of both \n",
    "# the control and treatment groups as they \n",
    "# are within the dataset\n",
    "n_control = df.query('group == \"control\"').shape[0]\n",
    "print(f'Control group size: {n_control}')\n",
    "\n",
    "n_treatment = df.query('group == \"treatment\"').shape[0]\n",
    "print(f'Treatment group size: {n_treatment}')"
   ]
  },
  {
   "cell_type": "markdown",
   "id": "c2bc33b2",
   "metadata": {},
   "source": [
    "<a id='second_source'></a>\n",
    "Python's `random.choices` function<sup>[2](#2)</sup> will provide us the opportunity to simulate `n_control` (34,678) and `n_treatment` (35,211) website events based on the overall conversion rate of 13.05% seen in `p_control_treatment_null`. The simulated event will generate a resultant list of 0's and 1's, standing for whether or not a guest converted.\n",
    "\n",
    "To share insight from Python's magnificent documentation, `random.choices` will \"Return a k sized list of elements chosen from the population with replacement. If a weights sequence is specified, selections are made according to the relative weights. If weights are not specified, selections are made with equal probability.\" The way weights are calculated is critical, as there is a significant difference in the proportion of those that converted (13.05%) and those that did not (1 - 13.05%, or ~86.95%). This will be seen reflected below in the function call arguments."
   ]
  },
  {
   "cell_type": "code",
   "execution_count": 18,
   "id": "01ef5f95",
   "metadata": {},
   "outputs": [
    {
     "name": "stdout",
     "output_type": "stream",
     "text": [
      "Sample control conversion rate: 6.51%\n"
     ]
    }
   ],
   "source": [
    "# random.choices(population, weights=None, k=1)\n",
    "# random control sample\n",
    "control_converted = random.choices(population = [0, 1],\n",
    "                                   weights = [(1 - p_control_treatment_null),\n",
    "                                               p_control_treatment_null],\n",
    "                                   k = n_control)\n",
    "\n",
    "# sample control conversion rate based on this input\n",
    "p_control_convert = sum(control_converted) / df.shape[0]\n",
    "print(f'Sample control conversion rate: {p_control_convert*100:.2f}%')"
   ]
  },
  {
   "cell_type": "code",
   "execution_count": 19,
   "id": "b571739a",
   "metadata": {},
   "outputs": [
    {
     "data": {
      "text/plain": [
       "[0, 0, 0, 0, 0]"
      ]
     },
     "execution_count": 19,
     "metadata": {},
     "output_type": "execute_result"
    }
   ],
   "source": [
    "# first 5 entries of the control sample\n",
    "control_converted[:5]"
   ]
  },
  {
   "cell_type": "code",
   "execution_count": 20,
   "id": "9484ef8c",
   "metadata": {},
   "outputs": [
    {
     "name": "stdout",
     "output_type": "stream",
     "text": [
      "Sample treatment conversion rate: 6.55%\n"
     ]
    }
   ],
   "source": [
    "# random treatment sample\n",
    "treatment_converted = random.choices(population = [0, 1],\n",
    "                                     weights = [(1 - p_control_treatment_null),\n",
    "                                                 p_control_treatment_null],\n",
    "                                     k = n_treatment)\n",
    "\n",
    "# sample control conversion rate based on this input\n",
    "p_treatment_convert = sum(treatment_converted) / df.shape[0]\n",
    "print(f'Sample treatment conversion rate: {p_treatment_convert*100:.2f}%')"
   ]
  },
  {
   "cell_type": "code",
   "execution_count": 21,
   "id": "bb7d75aa",
   "metadata": {},
   "outputs": [
    {
     "data": {
      "text/plain": [
       "[0, 0, 0, 0, 0]"
      ]
     },
     "execution_count": 21,
     "metadata": {},
     "output_type": "execute_result"
    }
   ],
   "source": [
    "# first 5 entries of the treatment sample\n",
    "treatment_converted[:5]"
   ]
  },
  {
   "cell_type": "code",
   "execution_count": 22,
   "id": "2fa8e697",
   "metadata": {},
   "outputs": [
    {
     "name": "stdout",
     "output_type": "stream",
     "text": [
      "Sample difference in conversion rate between groups: 0.04%\n"
     ]
    }
   ],
   "source": [
    "# difference in estimated sample proportions between groups\n",
    "# for a single sample comparison with the assumption that\n",
    "# each group has the same conversion rate\n",
    "p_diff = p_treatment_convert - p_control_convert\n",
    "print(f'Sample difference in conversion rate between groups: {p_diff*100:.2f}%')"
   ]
  },
  {
   "cell_type": "markdown",
   "id": "94841774",
   "metadata": {},
   "source": [
    "Now that the structure of our experiment has been built, it can be repeated over 500 simulations for the same process. "
   ]
  },
  {
   "cell_type": "code",
   "execution_count": 23,
   "id": "c3964437",
   "metadata": {},
   "outputs": [],
   "source": [
    "p_diffs = []\n",
    "\n",
    "for _ in range(500):\n",
    "    # each loop will simulate a single sample, like above\n",
    "    control_converted = random.choices(population = [0, 1],\n",
    "                                       weights = [(1 - p_control_treatment_null),\n",
    "                                                   p_control_treatment_null],\n",
    "                                       k = n_control)\n",
    "    treatment_converted = random.choices(population = [0, 1],\n",
    "                                         weights = [(1 - p_control_treatment_null),\n",
    "                                                     p_control_treatment_null],\n",
    "                                         k = n_treatment)\n",
    "    \n",
    "    # the conversion rate for each single sample is then generated\n",
    "    p_control_convert = sum(control_converted) / df.shape[0]\n",
    "    p_treatment_convert = sum(treatment_converted) / df.shape[0]\n",
    "    \n",
    "    # the difference in proportions is calculated\n",
    "    p_diff = p_treatment_convert - p_control_convert\n",
    "    \n",
    "    # and they are compiled, composing an array entirely of \n",
    "    # the differences in proportions for each sample together as a list\n",
    "    p_diffs.append(p_diff)"
   ]
  },
  {
   "cell_type": "code",
   "execution_count": 24,
   "id": "a7cc36a7",
   "metadata": {},
   "outputs": [
    {
     "data": {
      "image/png": "[encoded data removed]",
      "text/plain": [
       "<Figure size 640x480 with 1 Axes>"
      ]
     },
     "metadata": {},
     "output_type": "display_data"
    }
   ],
   "source": [
    "# convert list to pandas Series object\n",
    "p_diffs = pd.Series(p_diffs)\n",
    "\n",
    "# plot as histogram\n",
    "p_diffs.hist(bins=20);\n",
    "plt.title('Estimated Conversion Differences Across 500 Samples');"
   ]
  },
  {
   "cell_type": "code",
   "execution_count": 25,
   "id": "095ac153",
   "metadata": {},
   "outputs": [
    {
     "name": "stdout",
     "output_type": "stream",
     "text": [
      "Average sample difference in conversion rates across 500 cycles: 0.10%\n"
     ]
    }
   ],
   "source": [
    "# means of differences\n",
    "print(f'Average sample difference in conversion rates across 500 cycles: {p_diffs.mean()*100:.2f}%')"
   ]
  },
  {
   "cell_type": "markdown",
   "id": "9a25d635",
   "metadata": {},
   "source": [
    "The proportion of sample `p_diffs` that are greater than the actual observed difference seen in the `control` and `treatment` groups from the collected data can now be compared."
   ]
  },
  {
   "cell_type": "code",
   "execution_count": 26,
   "id": "793b7608",
   "metadata": {},
   "outputs": [
    {
     "name": "stdout",
     "output_type": "stream",
     "text": [
      "Actual percentage difference seen in data: 5.01%\n",
      "Seen as a complete proportion: 0.050066728877864425\n"
     ]
    }
   ],
   "source": [
    "# actual difference between groups seen in data\n",
    "p_diff_actual = treatment_conversion_rate - control_conversion_rate\n",
    "print(f'Actual percentage difference seen in data: {p_diff_actual*100:.2f}%')\n",
    "print(f'Seen as a complete proportion: {p_diff_actual}')"
   ]
  },
  {
   "cell_type": "markdown",
   "id": "1e8c8b36",
   "metadata": {},
   "source": [
    "<a id='third_source'></a>\n",
    "According to Western Michigan University<sup>[3](#3)</sup>, a probability value may be defined and explained as, \"The probability of obtaining test results at least as extreme as the result actually observed, under the assumption that the null hypothesis is correct. Assuming the null hypothesis is true, what do the sample data say about how likely the null hypothesis is to be true? When viewed in the context of this question, a p-value is more simply the probability to which the data support the null hypothesis. Accordingly, a large p-value lends support to the assertion of a correct null hypothesis. Hence, larger p-values result in failure to reject the null hypothesis. Conversely, a small p-value means that there is a lesser chance that the data support the null hypothesis. A p-value doesn’t tell you if the null hypothesis is true or false. It just tells you how likely it would be to obtain a particular result (from sample data) if the null hypothesis were true. A p-value is a piece of evidence, not a definitive proof.\" "
   ]
  },
  {
   "cell_type": "code",
   "execution_count": 27,
   "id": "67466e49",
   "metadata": {},
   "outputs": [
    {
     "data": {
      "text/plain": [
       "0"
      ]
     },
     "execution_count": 27,
     "metadata": {},
     "output_type": "execute_result"
    }
   ],
   "source": [
    "# the amount of estimated sample differences that \n",
    "# are greater than the actual difference seen in the data\n",
    "p_value = (p_diffs > p_diff_actual).sum()\n",
    "p_value"
   ]
  },
  {
   "cell_type": "code",
   "execution_count": 28,
   "id": "b02c9b2a",
   "metadata": {},
   "outputs": [
    {
     "data": {
      "image/png": "[encoded data removed]",
      "text/plain": [
       "<Figure size 640x480 with 1 Axes>"
      ]
     },
     "metadata": {},
     "output_type": "display_data"
    }
   ],
   "source": [
    "# original histogram seen above\n",
    "p_diffs.hist(bins=20);\n",
    "\n",
    "# where the actual difference seen in the data between\n",
    "# both groups is visually when compared to the distribution\n",
    "# of the 500 sample iterations\n",
    "plt.axvline(p_diff_actual, color='red');\n",
    "plt.title('Actual Difference Represented in Red');"
   ]
  },
  {
   "cell_type": "markdown",
   "id": "e1267cb6",
   "metadata": {},
   "source": [
    "To recapitulate once more for clarity, above we computed the proportion of the probability differences in the 500 sample iterations that are greater than the actual observed difference between the treatment and control groups in the original dataframe. When taking into consideration the standard Type I error rate of 0.05, also known as \"alpha,\" we see that the findings in the original data may be seen as statistically significant, and that the null hypothesis may be rejected. \n",
    "\n",
    "The average difference between the groups across 500 sample iterations is seen in the blue distribution demonstrated by the histogram above. The actual difference shown in the data is far removed from the constraint of the null hypothesis as the red vertical bar. The p-value of 0, far below the alpha of 0.05, represents this numerical rejection of the null hypothesis that the original control website has a greater, or at the very least, equivalent, conversion rate when compared to the new treatment landing page."
   ]
  },
  {
   "cell_type": "markdown",
   "id": "61d547b0",
   "metadata": {},
   "source": [
    "<a id='regression'></a>\n",
    "## V. Logistic Regression"
   ]
  },
  {
   "cell_type": "markdown",
   "id": "cbe47c31",
   "metadata": {},
   "source": [
    "<a id='fourth_source'></a>\n",
    "We can confirm that the null hypothesis is successfully rejected with another method. Below, we will implement an established algorithm that will model data under the hood. According to Penn State<sup>[4](#4)</sup>, \"Logistic Regression models a relationship between predictor variables and a categorical response variable. It helps us estimate a probability of falling into a certain level of the categorical response given a set of predictors. A binary response has two possible outcomes. Examples of binary responses could include passing or failing a test, responding yes or no on a survey, and having high or low blood pressure.\" It is used to predict the chance that a feature vector should be labelled as a certain category; it shows the probability that a data entry is a given class. Explaining the details of the mathematics behind this algorithm any further is beyond the scope of this project. \n",
    "\n",
    "Said simply, our visitors either converted into customers, or they did not. Using this algorithm, we will be able to test the previous experiment in another way to evaluate the associated probability value. For the following implementation, we will create an intercept for the algorithm, generate a one-hot encoded column to represent the categorical variable `group`, and split our data into `X` for our independent predictor feature variable and `y` for the dependent target variable. The model will then be instantiated and trained, with the probability value evaluated against the previous sampling probability value that was done. This process may be done for just the group, leaving out country of origin for now in order to hold the same features accountable as was previously done in the sampling."
   ]
  },
  {
   "cell_type": "code",
   "execution_count": 29,
   "id": "753dbac0",
   "metadata": {},
   "outputs": [
    {
     "data": {
      "text/html": [
       "<div>\n",
       "<style scoped>\n",
       "    .dataframe tbody tr th:only-of-type {\n",
       "        vertical-align: middle;\n",
       "    }\n",
       "\n",
       "    .dataframe tbody tr th {\n",
       "        vertical-align: top;\n",
       "    }\n",
       "\n",
       "    .dataframe thead th {\n",
       "        text-align: right;\n",
       "    }\n",
       "</style>\n",
       "<table border=\"1\" class=\"dataframe\">\n",
       "  <thead>\n",
       "    <tr style=\"text-align: right;\">\n",
       "      <th></th>\n",
       "      <th>country</th>\n",
       "      <th>group</th>\n",
       "      <th>converted</th>\n",
       "      <th>intercept</th>\n",
       "      <th>ab_page</th>\n",
       "    </tr>\n",
       "  </thead>\n",
       "  <tbody>\n",
       "    <tr>\n",
       "      <th>0</th>\n",
       "      <td>UK</td>\n",
       "      <td>control</td>\n",
       "      <td>0</td>\n",
       "      <td>1</td>\n",
       "      <td>0</td>\n",
       "    </tr>\n",
       "    <tr>\n",
       "      <th>1</th>\n",
       "      <td>US</td>\n",
       "      <td>treatment</td>\n",
       "      <td>1</td>\n",
       "      <td>1</td>\n",
       "      <td>1</td>\n",
       "    </tr>\n",
       "    <tr>\n",
       "      <th>2</th>\n",
       "      <td>UK</td>\n",
       "      <td>treatment</td>\n",
       "      <td>0</td>\n",
       "      <td>1</td>\n",
       "      <td>1</td>\n",
       "    </tr>\n",
       "    <tr>\n",
       "      <th>3</th>\n",
       "      <td>UK</td>\n",
       "      <td>control</td>\n",
       "      <td>0</td>\n",
       "      <td>1</td>\n",
       "      <td>0</td>\n",
       "    </tr>\n",
       "    <tr>\n",
       "      <th>4</th>\n",
       "      <td>UK</td>\n",
       "      <td>treatment</td>\n",
       "      <td>0</td>\n",
       "      <td>1</td>\n",
       "      <td>1</td>\n",
       "    </tr>\n",
       "  </tbody>\n",
       "</table>\n",
       "</div>"
      ],
      "text/plain": [
       "  country      group  converted  intercept  ab_page\n",
       "0      UK    control          0          1        0\n",
       "1      US  treatment          1          1        1\n",
       "2      UK  treatment          0          1        1\n",
       "3      UK    control          0          1        0\n",
       "4      UK  treatment          0          1        1"
      ]
     },
     "execution_count": 29,
     "metadata": {},
     "output_type": "execute_result"
    }
   ],
   "source": [
    "# create an intercept column for the algorithm\n",
    "df['intercept'] = 1\n",
    "\n",
    "# map the categorical variable group as control: 0, treatment: 1\n",
    "df['ab_page'] = pd.get_dummies(df['group'])['treatment']\n",
    "\n",
    "# show a few rows of the new dataframe\n",
    "df.head()"
   ]
  },
  {
   "cell_type": "code",
   "execution_count": 30,
   "id": "6ee2e15e",
   "metadata": {},
   "outputs": [
    {
     "name": "stdout",
     "output_type": "stream",
     "text": [
      "Optimization terminated successfully.\n",
      "         Current function value: 0.384516\n",
      "         Iterations 6\n"
     ]
    }
   ],
   "source": [
    "# split the data into independent and dependent features\n",
    "X = df[['intercept', 'ab_page']]\n",
    "y = df['converted']\n",
    "\n",
    "# build and fit the logistic regression model \n",
    "lr_model = sm.Logit(y, X)\n",
    "lr_results = lr_model.fit()"
   ]
  },
  {
   "cell_type": "code",
   "execution_count": 31,
   "id": "4fdef009",
   "metadata": {},
   "outputs": [
    {
     "name": "stdout",
     "output_type": "stream",
     "text": [
      "Previous Sampling Probability Value: 0\n",
      "Logistic Regression Probability Value to five decimal places: 0.00000\n"
     ]
    }
   ],
   "source": [
    "# repeat the probability value for the previous sampling\n",
    "print(f'Previous Sampling Probability Value: {p_value}')\n",
    "\n",
    "# return the new probability value for comparison\n",
    "print(f'Logistic Regression Probability Value to five decimal places: {lr_results.pvalues[1]:.5f}')"
   ]
  },
  {
   "cell_type": "markdown",
   "id": "e7f88fb3",
   "metadata": {},
   "source": [
    "<a id='evaluation'></a>\n",
    "## VI. Evaluation"
   ]
  },
  {
   "cell_type": "markdown",
   "id": "ead17b18",
   "metadata": {},
   "source": [
    "We can see here that the logistic regression model agrees with the sampling process: the probability value is less than the standard Type I error rate, alpha, of 0.05. This enables us to successfully reject the null hypothesis that the original control website landing page is better than or the same as the new treatment page in favor of the alternative hypothesis. \n",
    "\n",
    "The difference seen in the pages may be considered statistically significant, and it will be worth publishing the new website landing page for the upcoming marketing campaign. Something key to consider, is that if this was a change that was more costly in terms of time, energy, labor, or payroll than simply publishing a previously created website page, the yield may not be practically significant depending on the situation.\n",
    "\n",
    "Admittedly, this dataset has its own limitations. There is a small set of feature vector columns that could be used as independent variables. The overall number of data points is rudimentary. Without a primary key or specific indicator, duplicate values are unable to be adequately assessed. It was previously compiled, and lacks any missing values. Due to these constraints, a more robust experiment would need to be established in order to handle the rigor of a more complex dataset."
   ]
  },
  {
   "cell_type": "markdown",
   "id": "aad6d024",
   "metadata": {},
   "source": [
    "<a id='sources'></a>\n",
    "## VII. Sources"
   ]
  },
  {
   "cell_type": "markdown",
   "id": "004ed48b",
   "metadata": {},
   "source": [
    "<a id='1'></a>\n",
    "[[1]](#first_source): [What is A/B testing?](https://www.oracle.com/cx/marketing/what-is-ab-testing/)\n",
    "\n",
    "<a id='2'></a>\n",
    "[[2]](#second_source): [random - Generate pseduo-random numbers](https://docs.python.org/3/library/random.html)\n",
    "\n",
    "<a id='3'></a>\n",
    "[[3]](#third_source): [P-Values Simplified](https://wmed.edu/sites/default/files/P-VALUES%20SIMPLIFIED.pdf)\n",
    "\n",
    "<a id='4'></a>\n",
    "[[4]](#fourth_source): [Logistic Regression](https://online.stat.psu.edu/stat462/node/207/)"
   ]
  },
  {
   "cell_type": "markdown",
   "id": "f77df142",
   "metadata": {},
   "source": [
    "This dataset and project originated from and was inspired by Udacity's [Statistics for Data Analysis](https://www.udacity.com/course/statistics-for-data-analysis-nanodegree--nd588) Nanodegree. Within each certificate program, theory is demonstrated through conceptual explanations in written language, programmatic exercises to implement said concepts in code, pseudo-code interpretations bridging spoken human language and algorithms, and pure mathematical notation. Skills and abilities are exemplified in projects that are submitted and graded against an established rubric."
   ]
  },
  {
   "cell_type": "code",
   "execution_count": null,
   "id": "e44bd4fe",
   "metadata": {},
   "outputs": [],
   "source": []
  }
 ],
 "metadata": {
  "kernelspec": {
   "display_name": "Python 3 (ipykernel)",
   "language": "python",
   "name": "python3"
  },
  "language_info": {
   "codemirror_mode": {
    "name": "ipython",
    "version": 3
   },
   "file_extension": ".py",
   "mimetype": "text/x-python",
   "name": "python",
   "nbconvert_exporter": "python",
   "pygments_lexer": "ipython3",
   "version": "3.10.13"
  }
 },
 "nbformat": 4,
 "nbformat_minor": 5
}
